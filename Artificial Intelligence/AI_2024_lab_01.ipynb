{
 "cells": [
  {
   "cell_type": "markdown",
   "id": "opposite-dream",
   "metadata": {},
   "source": [
    "# A.I. Assignment 1\n",
    "\n",
    "Set up and familiarize with some Python packages. A simple application with random numbers.\n",
    "\n",
    "For this assignment you have these tasks:\n",
    "1. Prepare the working environment\n",
    "1. Get familiarized with  Numpy (create and manipulate arrays)\n",
    "1. Get familiarized with  Matplotlib  (display various graphics)\n",
    "1. Get familiarized with  Pytorch tensors (creation and manipulation)\n",
    "1. Get familiarized with  PIL/PILLOW (python image library)\n",
    "1. Two applications: Simulate an unfair probability spinner and performe a Monte Carlo Simulation  \n",
    "\n",
    "## Task 1 - Prepare the working environment\n",
    "\n",
    "In order to present the solved tasks from the laboratories a Jupyter notebook is preferred. For this prepare the working environment as follows:  \n",
    "\n",
    "Install Anaconda distribution and navigator. Create a new  environment aiclasses  and inside this environment install: numpy, matplotlib,  pytorch, pillow.\n",
    "\n",
    "Environments in Python are like sandboxes that have different versions of Python and/or packages installed in them. You can create, export, list, remove, and update environments. Anaconda allows easy management for these. \n",
    "Here are the links for the packages’ documentations if you need further references:  \n",
    "\n",
    "[Pytorch](https://pytorch.org/)\n",
    "[Pillow](https://pillow.readthedocs.io/en/stable/)\n",
    "[Numpy](https://numpy.org/)\n",
    "[Matplotlib](https://matplotlib.org/)\n",
    "\n",
    "After these setups install jupyter notebook and launch it. Create a new notebook related to python 3. \n",
    "\t\n"
   ]
  },
  {
   "cell_type": "markdown",
   "id": "injured-telephone",
   "metadata": {},
   "source": [
    "## Task 2 -- Get familiarized with Numpy (create and manipulate arrays)"
   ]
  },
  {
   "cell_type": "code",
   "execution_count": 3,
   "id": "protecting-status",
   "metadata": {},
   "outputs": [],
   "source": [
    "import numpy as np"
   ]
  },
  {
   "cell_type": "code",
   "execution_count": 4,
   "id": "pharmaceutical-disaster",
   "metadata": {
    "scrolled": true
   },
   "outputs": [
    {
     "data": {
      "text/plain": [
       "4"
      ]
     },
     "execution_count": 4,
     "metadata": {},
     "output_type": "execute_result"
    }
   ],
   "source": [
    "my_array = np.array([1, 2, 3, 4])\n",
    "# works as it would with a standard list\n",
    "len(my_array)"
   ]
  },
  {
   "cell_type": "markdown",
   "id": "precise-safety",
   "metadata": {},
   "source": [
    "The shape array of an array is very useful (we'll see more of it later when we talk about 2D arrays -- matrices -- and higher-dimensional arrays)."
   ]
  },
  {
   "cell_type": "code",
   "execution_count": 5,
   "id": "south-smell",
   "metadata": {},
   "outputs": [
    {
     "data": {
      "text/plain": [
       "(4,)"
      ]
     },
     "execution_count": 5,
     "metadata": {},
     "output_type": "execute_result"
    }
   ],
   "source": [
    "my_array.shape"
   ]
  },
  {
   "cell_type": "markdown",
   "id": "tender-football",
   "metadata": {},
   "source": [
    "Numpy arrays are typed. This means that by default, all the elements will be assumed to be of the same type (e.g., integer, float, String)."
   ]
  },
  {
   "cell_type": "code",
   "execution_count": 6,
   "id": "terminal-loading",
   "metadata": {},
   "outputs": [
    {
     "data": {
      "text/plain": [
       "dtype('int32')"
      ]
     },
     "execution_count": 6,
     "metadata": {},
     "output_type": "execute_result"
    }
   ],
   "source": [
    "my_array.dtype"
   ]
  },
  {
   "cell_type": "markdown",
   "id": "announced-passenger",
   "metadata": {},
   "source": [
    "Numpy arrays have similar functionality as lists! Below, we compute the length, slice the array, and iterate through it (one could identically perform the same with a list)."
   ]
  },
  {
   "cell_type": "code",
   "execution_count": 7,
   "id": "brave-buyer",
   "metadata": {},
   "outputs": [
    {
     "name": "stdout",
     "output_type": "stream",
     "text": [
      "4\n",
      "[3 4]\n",
      "1\n",
      "2\n",
      "3\n",
      "4\n"
     ]
    }
   ],
   "source": [
    "print(len(my_array))\n",
    "print(my_array[2:4])\n",
    "for element in my_array:\n",
    "    print(element)"
   ]
  },
  {
   "cell_type": "markdown",
   "id": "breathing-premises",
   "metadata": {},
   "source": [
    "There are two ways to manipulate numpy arrays: \n",
    "\n",
    "1. by using the numpy module's methods (e.g., `np.mean()`)\n",
    "1. by applying the function `np.mean()` with the numpy array as an argument."
   ]
  },
  {
   "cell_type": "code",
   "execution_count": 8,
   "id": "proud-adobe",
   "metadata": {},
   "outputs": [
    {
     "name": "stdout",
     "output_type": "stream",
     "text": [
      "2.5\n",
      "2.5\n"
     ]
    }
   ],
   "source": [
    "print(my_array.mean())\n",
    "print(np.mean(my_array))"
   ]
  },
  {
   "cell_type": "markdown",
   "id": "deadly-divorce",
   "metadata": {},
   "source": [
    "There are many other efficient ways to construct numpy arrays. Here are some commonly used numpy array constructors. Read more details in the numpy documentation."
   ]
  },
  {
   "cell_type": "code",
   "execution_count": 9,
   "id": "looking-voluntary",
   "metadata": {},
   "outputs": [
    {
     "data": {
      "text/plain": [
       "array([1., 1., 1., 1., 1., 1., 1., 1., 1., 1.])"
      ]
     },
     "execution_count": 9,
     "metadata": {},
     "output_type": "execute_result"
    }
   ],
   "source": [
    "np.ones(10) # generates 10 floating point ones"
   ]
  },
  {
   "cell_type": "markdown",
   "id": "considerable-adaptation",
   "metadata": {},
   "source": [
    "Numpy gains a lot of its efficiency from being typed. That is, all elements in the array have the same type, such as integer or floating point. The default type, as can be seen above, is a float. (Each float uses either 32 or 64 bits of memory, depending on if the code is running a 32-bit or 64-bit machine, respectively)."
   ]
  },
  {
   "cell_type": "code",
   "execution_count": 10,
   "id": "cultural-memphis",
   "metadata": {},
   "outputs": [
    {
     "data": {
      "text/plain": [
       "8"
      ]
     },
     "execution_count": 10,
     "metadata": {},
     "output_type": "execute_result"
    }
   ],
   "source": [
    "np.dtype(float).itemsize # in bytes (remember, 1 byte = 8 bits)"
   ]
  },
  {
   "cell_type": "code",
   "execution_count": 11,
   "id": "monetary-reset",
   "metadata": {},
   "outputs": [
    {
     "data": {
      "text/plain": [
       "array([1, 1, 1, 1, 1, 1, 1, 1, 1, 1])"
      ]
     },
     "execution_count": 11,
     "metadata": {},
     "output_type": "execute_result"
    }
   ],
   "source": [
    "np.ones(10, dtype='int') # generates 10 integer ones"
   ]
  },
  {
   "cell_type": "code",
   "execution_count": 12,
   "id": "illegal-stable",
   "metadata": {},
   "outputs": [
    {
     "data": {
      "text/plain": [
       "array([0., 0., 0., 0., 0., 0., 0., 0., 0., 0.])"
      ]
     },
     "execution_count": 12,
     "metadata": {},
     "output_type": "execute_result"
    }
   ],
   "source": [
    "np.zeros(10)"
   ]
  },
  {
   "cell_type": "markdown",
   "id": "addressed-shadow",
   "metadata": {},
   "source": [
    "Often, you will want random numbers. Use the random constructor!"
   ]
  },
  {
   "cell_type": "code",
   "execution_count": 13,
   "id": "applicable-gross",
   "metadata": {},
   "outputs": [
    {
     "data": {
      "text/plain": [
       "array([0.33324785, 0.96301071, 0.12216687, 0.46564474, 0.35851452,\n",
       "       0.55171536, 0.42374754, 0.94914003, 0.85544087, 0.00963868])"
      ]
     },
     "execution_count": 13,
     "metadata": {},
     "output_type": "execute_result"
    }
   ],
   "source": [
    "np.random.random(10) # uniform from [0,1]"
   ]
  },
  {
   "cell_type": "markdown",
   "id": "victorian-sitting",
   "metadata": {},
   "source": [
    "You can generate random numbers from a normal distribution with mean 0 and variance 1:"
   ]
  },
  {
   "cell_type": "code",
   "execution_count": 14,
   "id": "amended-handy",
   "metadata": {},
   "outputs": [
    {
     "name": "stdout",
     "output_type": "stream",
     "text": [
      "The sample mean and standard devation are 0.007155 and 0.976326, respectively.\n"
     ]
    }
   ],
   "source": [
    "normal_array = np.random.randn(1000)\n",
    "print(\"The sample mean and standard devation are %f and %f, respectively.\" %(np.mean(normal_array), np.std(normal_array)))"
   ]
  },
  {
   "cell_type": "code",
   "execution_count": 15,
   "id": "miniature-thumb",
   "metadata": {},
   "outputs": [
    {
     "data": {
      "text/plain": [
       "1000"
      ]
     },
     "execution_count": 15,
     "metadata": {},
     "output_type": "execute_result"
    }
   ],
   "source": [
    "len(normal_array)"
   ]
  },
  {
   "cell_type": "markdown",
   "id": "immune-clinic",
   "metadata": {},
   "source": [
    "You can sample with and without replacement from an array. Let's first construct a list with evenly-spaced values:"
   ]
  },
  {
   "cell_type": "code",
   "execution_count": 16,
   "id": "soviet-excerpt",
   "metadata": {},
   "outputs": [
    {
     "data": {
      "text/plain": [
       "array([0. , 0.1, 0.2, 0.3, 0.4, 0.5, 0.6, 0.7, 0.8, 0.9, 1. ])"
      ]
     },
     "execution_count": 16,
     "metadata": {},
     "output_type": "execute_result"
    }
   ],
   "source": [
    "grid = np.arange(0.0, 1.01, 0.1)\n",
    "grid"
   ]
  },
  {
   "cell_type": "markdown",
   "id": "silver-vertical",
   "metadata": {},
   "source": [
    "Without replacement"
   ]
  },
  {
   "cell_type": "code",
   "execution_count": 17,
   "id": "tropical-hypothetical",
   "metadata": {},
   "outputs": [
    {
     "data": {
      "text/plain": [
       "array([0.4, 0.8, 1. , 0.7, 0. ])"
      ]
     },
     "execution_count": 17,
     "metadata": {},
     "output_type": "execute_result"
    }
   ],
   "source": [
    "np.random.choice(grid, 5, replace=False)"
   ]
  },
  {
   "cell_type": "code",
   "execution_count": 18,
   "id": "vulnerable-regular",
   "metadata": {},
   "outputs": [
    {
     "ename": "ValueError",
     "evalue": "Cannot take a larger sample than population when 'replace=False'",
     "output_type": "error",
     "traceback": [
      "\u001b[1;31m---------------------------------------------------------------------------\u001b[0m",
      "\u001b[1;31mValueError\u001b[0m                                Traceback (most recent call last)",
      "Cell \u001b[1;32mIn[18], line 1\u001b[0m\n\u001b[1;32m----> 1\u001b[0m np\u001b[38;5;241m.\u001b[39mrandom\u001b[38;5;241m.\u001b[39mchoice(grid, \u001b[38;5;241m20\u001b[39m, replace\u001b[38;5;241m=\u001b[39m\u001b[38;5;28;01mFalse\u001b[39;00m)\n",
      "File \u001b[1;32mmtrand.pyx:984\u001b[0m, in \u001b[0;36mnumpy.random.mtrand.RandomState.choice\u001b[1;34m()\u001b[0m\n",
      "\u001b[1;31mValueError\u001b[0m: Cannot take a larger sample than population when 'replace=False'"
     ]
    }
   ],
   "source": [
    "np.random.choice(grid, 20, replace=False)"
   ]
  },
  {
   "cell_type": "markdown",
   "id": "devoted-president",
   "metadata": {},
   "source": [
    "With replacement:"
   ]
  },
  {
   "cell_type": "code",
   "execution_count": 19,
   "id": "convertible-rider",
   "metadata": {},
   "outputs": [
    {
     "data": {
      "text/plain": [
       "array([0.8, 0.8, 0.8, 0.7, 0.4, 0.1, 0.2, 0.6, 0.9, 1. , 0.3, 0. , 0.1,\n",
       "       0.8, 0.8, 0.9, 0.2, 0.4, 0.7, 1. ])"
      ]
     },
     "execution_count": 19,
     "metadata": {},
     "output_type": "execute_result"
    }
   ],
   "source": [
    "np.random.choice(grid, 20, replace=True)"
   ]
  },
  {
   "cell_type": "markdown",
   "id": "equipped-embassy",
   "metadata": {},
   "source": [
    "Let's create 1,000 points between -10 and 10"
   ]
  },
  {
   "cell_type": "code",
   "execution_count": 20,
   "id": "descending-motivation",
   "metadata": {},
   "outputs": [
    {
     "data": {
      "text/plain": [
       "(array([ 9.91991992,  9.93993994,  9.95995996,  9.97997998, 10.        ]),\n",
       " array([-10.        ,  -9.97997998,  -9.95995996,  -9.93993994,\n",
       "         -9.91991992]))"
      ]
     },
     "execution_count": 20,
     "metadata": {},
     "output_type": "execute_result"
    }
   ],
   "source": [
    "x = np.linspace(-10, 10, 1000) # linspace() returns evenly-spaced numbers over a specified interval\n",
    "x[-5:], x[:5]"
   ]
  },
  {
   "cell_type": "markdown",
   "id": "intensive-ceremony",
   "metadata": {},
   "source": [
    "## Task 3 -- Get familiarized with  Matplotlib  (display various graphics)"
   ]
  },
  {
   "cell_type": "markdown",
   "id": "union-collins",
   "metadata": {},
   "source": [
    "The plot() function is used to draw points (markers) in a diagram. By default, the plot() function draws a line from point to point. The function takes parameters for specifying points in the diagram. Parameter 1 is an array containing the points on the x-axis. Parameter 2 is an array containing the points on the y-axis."
   ]
  },
  {
   "cell_type": "code",
   "execution_count": 21,
   "id": "interracial-prince",
   "metadata": {},
   "outputs": [
    {
     "data": {
      "image/png": "[encoded data removed]",
      "text/plain": [
       "<Figure size 640x480 with 1 Axes>"
      ]
     },
     "metadata": {},
     "output_type": "display_data"
    }
   ],
   "source": [
    "import matplotlib.pyplot as plt\n",
    "x = [1, 2]\n",
    "y = [1, 5]\n",
    "plt.plot(x, y)\n",
    "plt.show()"
   ]
  },
  {
   "cell_type": "markdown",
   "id": "hawaiian-danish",
   "metadata": {},
   "source": [
    "*Other example where we modify the line style and the color:*"
   ]
  },
  {
   "cell_type": "code",
   "execution_count": 22,
   "id": "central-maine",
   "metadata": {},
   "outputs": [
    {
     "data": {
      "image/png": "[encoded data removed]",
      "text/plain": [
       "<Figure size 640x480 with 1 Axes>"
      ]
     },
     "metadata": {},
     "output_type": "display_data"
    }
   ],
   "source": [
    "import matplotlib.pyplot as plt\n",
    "import numpy as np\n",
    "x = np.random.randint(low=1, high=20, size=30)\n",
    "plt.plot(x, color = 'blue', linewidth=3, linestyle='dashed')\n",
    "plt.show()"
   ]
  },
  {
   "cell_type": "markdown",
   "id": "norman-speech",
   "metadata": {},
   "source": [
    "## Task 4 -- Get familiarized with Pytorch tensors (creation and manipulation)"
   ]
  },
  {
   "cell_type": "code",
   "execution_count": 23,
   "id": "colored-civilization",
   "metadata": {},
   "outputs": [],
   "source": [
    "import torch"
   ]
  },
  {
   "cell_type": "markdown",
   "id": "mineral-assembly",
   "metadata": {},
   "source": [
    " ***Creation Examples:***"
   ]
  },
  {
   "cell_type": "code",
   "execution_count": 24,
   "id": "adolescent-adelaide",
   "metadata": {},
   "outputs": [
    {
     "name": "stdout",
     "output_type": "stream",
     "text": [
      "<class 'torch.Tensor'>\n",
      "tensor([[3.1469e+06, 1.1337e-42, 0.0000e+00, 0.0000e+00],\n",
      "        [0.0000e+00, 0.0000e+00, 0.0000e+00, 0.0000e+00],\n",
      "        [0.0000e+00, 0.0000e+00, 0.0000e+00, 0.0000e+00]])\n"
     ]
    }
   ],
   "source": [
    "x = torch.empty(3, 4)\n",
    "print(type(x))\n",
    "print(x)\n"
   ]
  },
  {
   "cell_type": "code",
   "execution_count": 25,
   "id": "surface-harvest",
   "metadata": {},
   "outputs": [
    {
     "name": "stdout",
     "output_type": "stream",
     "text": [
      "tensor([[0., 0., 0.],\n",
      "        [0., 0., 0.]])\n"
     ]
    }
   ],
   "source": [
    "zeros = torch.zeros(2, 3)\n",
    "print(zeros)"
   ]
  },
  {
   "cell_type": "code",
   "execution_count": 26,
   "id": "forty-aviation",
   "metadata": {},
   "outputs": [
    {
     "name": "stdout",
     "output_type": "stream",
     "text": [
      "tensor([[1., 1., 1.],\n",
      "        [1., 1., 1.]])\n"
     ]
    }
   ],
   "source": [
    "ones = torch.ones(2, 3)\n",
    "print(ones)"
   ]
  },
  {
   "cell_type": "code",
   "execution_count": 27,
   "id": "consecutive-programming",
   "metadata": {},
   "outputs": [
    {
     "name": "stdout",
     "output_type": "stream",
     "text": [
      "tensor([[0.3126, 0.3791, 0.3087],\n",
      "        [0.0736, 0.4216, 0.0691]])\n"
     ]
    }
   ],
   "source": [
    "torch.manual_seed(1729)\n",
    "random = torch.rand(2, 3)\n",
    "print(random)"
   ]
  },
  {
   "cell_type": "markdown",
   "id": "vocational-tuition",
   "metadata": {},
   "source": [
    "Observe the last example with the seed specified. Run the following example and observe the “random” values generated:"
   ]
  },
  {
   "cell_type": "code",
   "execution_count": 28,
   "id": "billion-sunday",
   "metadata": {},
   "outputs": [
    {
     "name": "stdout",
     "output_type": "stream",
     "text": [
      "tensor([[0.7576, 0.2793, 0.4031],\n",
      "        [0.7347, 0.0293, 0.7999]])\n",
      "tensor([[0.3971, 0.7544, 0.5695],\n",
      "        [0.4388, 0.6387, 0.5247]])\n",
      "tensor([[0.7576, 0.2793, 0.4031],\n",
      "        [0.7347, 0.0293, 0.7999]])\n",
      "tensor([[0.3971, 0.7544, 0.5695],\n",
      "        [0.4388, 0.6387, 0.5247]])\n"
     ]
    }
   ],
   "source": [
    "torch.manual_seed(1)\n",
    "random1 = torch.rand(2, 3)\n",
    "print(random1)\n",
    "\n",
    "random2 = torch.rand(2, 3)\n",
    "print(random2)\n",
    "\n",
    "torch.manual_seed(1)\n",
    "random3 = torch.rand(2, 3)\n",
    "print(random3)\n",
    "\n",
    "random4 = torch.rand(2, 3)\n",
    "print(random4)"
   ]
  },
  {
   "cell_type": "markdown",
   "id": "whole-immigration",
   "metadata": {},
   "source": [
    "***Tensor Shapes***\n",
    "\n",
    "On performing operations on two or more tensors, they will need to be of the same shape - that is, having the same number of dimensions and the same number of cells in each dimension. For that, we have the `torch.*_like()` methods:\n"
   ]
  },
  {
   "cell_type": "code",
   "execution_count": 29,
   "id": "nonprofit-fleece",
   "metadata": {},
   "outputs": [
    {
     "name": "stdout",
     "output_type": "stream",
     "text": [
      "torch.Size([2, 2, 3])\n",
      "tensor([[[0., 0., 0.],\n",
      "         [0., 0., 0.]],\n",
      "\n",
      "        [[0., 0., 0.],\n",
      "         [0., 0., 0.]]])\n",
      "torch.Size([2, 2, 3])\n",
      "tensor([[[0., 0., 0.],\n",
      "         [0., 0., 0.]],\n",
      "\n",
      "        [[0., 0., 0.],\n",
      "         [0., 0., 0.]]])\n",
      "torch.Size([2, 2, 3])\n",
      "tensor([[[0., 0., 0.],\n",
      "         [0., 0., 0.]],\n",
      "\n",
      "        [[0., 0., 0.],\n",
      "         [0., 0., 0.]]])\n",
      "torch.Size([2, 2, 3])\n",
      "tensor([[[1., 1., 1.],\n",
      "         [1., 1., 1.]],\n",
      "\n",
      "        [[1., 1., 1.],\n",
      "         [1., 1., 1.]]])\n",
      "torch.Size([2, 2, 3])\n",
      "tensor([[[0.6826, 0.3051, 0.4635],\n",
      "         [0.4550, 0.5725, 0.4980]],\n",
      "\n",
      "        [[0.9371, 0.6556, 0.3138],\n",
      "         [0.1980, 0.4162, 0.2843]]])\n"
     ]
    }
   ],
   "source": [
    "x = torch.empty(2, 2, 3)\n",
    "print(x.shape)\n",
    "print(x)\n",
    "\n",
    "empty_like_x = torch.empty_like(x)\n",
    "print(empty_like_x.shape)\n",
    "print(empty_like_x)\n",
    "\n",
    "zeros_like_x = torch.zeros_like(x)\n",
    "print(zeros_like_x.shape)\n",
    "print(zeros_like_x)\n",
    "\n",
    "ones_like_x = torch.ones_like(x)\n",
    "print(ones_like_x.shape)\n",
    "print(ones_like_x)\n",
    "\n",
    "rand_like_x = torch.rand_like(x)\n",
    "print(rand_like_x.shape)\n",
    "print(rand_like_x)\n"
   ]
  },
  {
   "cell_type": "markdown",
   "id": "detected-committee",
   "metadata": {},
   "source": [
    "***Moving to GPU***\n",
    "\n",
    "   First, we should check whether a GPU is available, with the is_available() method.\n",
    "\n",
    "   **If you do not have a CUDA-compatible GPU and CUDA drivers installed, the executable cells in this section will not execute any GPU-related code.**\n"
   ]
  },
  {
   "cell_type": "code",
   "execution_count": 30,
   "id": "armed-opposition",
   "metadata": {},
   "outputs": [
    {
     "name": "stdout",
     "output_type": "stream",
     "text": [
      "We have a GPU!\n"
     ]
    }
   ],
   "source": [
    "if torch.cuda.is_available():\n",
    "    print('We have a GPU!')\n",
    "else:\n",
    "    print('Sorry, CPU only.')"
   ]
  },
  {
   "cell_type": "markdown",
   "id": "expressed-minority",
   "metadata": {},
   "source": [
    "A common way to handle this situation is this: "
   ]
  },
  {
   "cell_type": "code",
   "execution_count": 31,
   "id": "healthy-assembly",
   "metadata": {},
   "outputs": [
    {
     "name": "stdout",
     "output_type": "stream",
     "text": [
      "Device: cuda\n",
      "tensor([[0.8903, 0.0275],\n",
      "        [0.9031, 0.5386]], device='cuda:0')\n"
     ]
    }
   ],
   "source": [
    "if torch.cuda.is_available():\n",
    "    my_device = torch.device('cuda')\n",
    "else:\n",
    "    my_device = torch.device('cpu')\n",
    "print('Device: {}'.format(my_device))\n",
    "\n",
    "x = torch.rand(2, 2, device=my_device)\n",
    "print(x)"
   ]
  },
  {
   "cell_type": "markdown",
   "id": "blessed-processing",
   "metadata": {},
   "source": [
    "## Task 5 -- Get familiarized with  PIL/PILLOW (python image library)"
   ]
  },
  {
   "cell_type": "markdown",
   "id": "unauthorized-institution",
   "metadata": {},
   "source": [
    "A. Display an image with pillow (the image must be in the same folder for these examples to run, and we considered the name of the image file `opera.jpg`):"
   ]
  },
  {
   "cell_type": "code",
   "execution_count": 32,
   "id": "hearing-ecuador",
   "metadata": {},
   "outputs": [
    {
     "ename": "FileNotFoundError",
     "evalue": "[Errno 2] No such file or directory: 'orar sem 2 2023-2024.png'",
     "output_type": "error",
     "traceback": [
      "\u001b[1;31m---------------------------------------------------------------------------\u001b[0m",
      "\u001b[1;31mFileNotFoundError\u001b[0m                         Traceback (most recent call last)",
      "Cell \u001b[1;32mIn[32], line 4\u001b[0m\n\u001b[0;32m      2\u001b[0m \u001b[38;5;28;01mfrom\u001b[39;00m \u001b[38;5;21;01mPIL\u001b[39;00m \u001b[38;5;28;01mimport\u001b[39;00m Image\n\u001b[0;32m      3\u001b[0m \u001b[38;5;66;03m# load the image\u001b[39;00m\n\u001b[1;32m----> 4\u001b[0m image \u001b[38;5;241m=\u001b[39m Image\u001b[38;5;241m.\u001b[39mopen(\u001b[38;5;124m'\u001b[39m\u001b[38;5;124morar sem 2 2023-2024.png\u001b[39m\u001b[38;5;124m'\u001b[39m)\n\u001b[0;32m      5\u001b[0m \u001b[38;5;66;03m# summarize some details about the image\u001b[39;00m\n\u001b[0;32m      6\u001b[0m \u001b[38;5;28mprint\u001b[39m(image\u001b[38;5;241m.\u001b[39mformat)\n",
      "File \u001b[1;32mD:\\anaconda\\anaconda\\envs\\lab1\\Lib\\site-packages\\PIL\\Image.py:3247\u001b[0m, in \u001b[0;36mopen\u001b[1;34m(fp, mode, formats)\u001b[0m\n\u001b[0;32m   3244\u001b[0m     filename \u001b[38;5;241m=\u001b[39m fp\n\u001b[0;32m   3246\u001b[0m \u001b[38;5;28;01mif\u001b[39;00m filename:\n\u001b[1;32m-> 3247\u001b[0m     fp \u001b[38;5;241m=\u001b[39m builtins\u001b[38;5;241m.\u001b[39mopen(filename, \u001b[38;5;124m\"\u001b[39m\u001b[38;5;124mrb\u001b[39m\u001b[38;5;124m\"\u001b[39m)\n\u001b[0;32m   3248\u001b[0m     exclusive_fp \u001b[38;5;241m=\u001b[39m \u001b[38;5;28;01mTrue\u001b[39;00m\n\u001b[0;32m   3250\u001b[0m \u001b[38;5;28;01mtry\u001b[39;00m:\n",
      "\u001b[1;31mFileNotFoundError\u001b[0m: [Errno 2] No such file or directory: 'orar sem 2 2023-2024.png'"
     ]
    }
   ],
   "source": [
    "# load and show an image with Pillow\n",
    "from PIL import Image\n",
    "# load the image\n",
    "image = Image.open('orar sem 2 2023-2024.png')\n",
    "# summarize some details about the image\n",
    "print(image.format)\n",
    "print(image.mode)\n",
    "print(image.size)\n",
    "# show the image\n",
    "image.show()\n"
   ]
  },
  {
   "cell_type": "markdown",
   "id": "broken-package",
   "metadata": {},
   "source": [
    "B. Convert the image to a numpy array:"
   ]
  },
  {
   "cell_type": "code",
   "execution_count": null,
   "id": "abstract-proportion",
   "metadata": {},
   "outputs": [],
   "source": [
    "# load and display an image with Matplotlib\n",
    "from matplotlib import image\n",
    "from matplotlib import pyplot\n",
    "# load image as pixel array\n",
    "data = image.imread('orar sem 2 2023-2024.png')\n",
    "# summarize shape of the pixel array\n",
    "print(data.dtype)\n",
    "print(data.shape)\n",
    "# display the array of pixels as an image\n",
    "pyplot.imshow(data)\n",
    "pyplot.show()"
   ]
  },
  {
   "cell_type": "markdown",
   "id": "respective-relief",
   "metadata": {},
   "source": [
    "C. Resize an image to a specific dimension:"
   ]
  },
  {
   "cell_type": "code",
   "execution_count": null,
   "id": "floral-cooler",
   "metadata": {
    "scrolled": true
   },
   "outputs": [],
   "source": [
    "# create a thumbnail of an image\n",
    "from PIL import Image\n",
    "# load the image\n",
    "image = Image.open('orar sem 2 2023-2024.png')\n",
    "# report the size of the image\n",
    "print(image.size)\n",
    "# create a thumbnail and preserve aspect ratio\n",
    "image.thumbnail((100,100))\n",
    "# report the size of the thumbnail\n",
    "print(image.size)"
   ]
  },
  {
   "cell_type": "markdown",
   "id": "insured-organic",
   "metadata": {},
   "source": [
    "D. Other operations can be found at the address [How to Load and Manipulate Images for Deep Learning in Python With PIL/Pillow](https://machinelearningmastery.com/how-to-load-and-manipulate-images-for-deep-learning-in-python-with-pil-pillow/) \n"
   ]
  },
  {
   "cell_type": "markdown",
   "id": "armed-biotechnology",
   "metadata": {},
   "source": [
    "## Task 6 -- An application: Simulate an unfair probability spinner"
   ]
  },
  {
   "cell_type": "code",
   "execution_count": null,
   "id": "f2955cf8-52c4-45d6-b079-05b728da8ebb",
   "metadata": {},
   "outputs": [],
   "source": []
  },
  {
   "cell_type": "markdown",
   "id": "quick-christian",
   "metadata": {},
   "source": [
    "Consider an unfair probability spinner with $n$ slots. Each slot has a probabilty $P_n \\in [0,1]$ and $\\sum_{i=0}^{n-1}P_i = 1$. \n",
    "\n",
    "Write a function that random generate an index $i$ with the probability $P_i$ from the set $\\{0, 1, ..., n\\}$.  "
   ]
  },
  {
   "cell_type": "code",
   "execution_count": 33,
   "id": "together-ownership",
   "metadata": {},
   "outputs": [],
   "source": [
    "#Distribution Only\n",
    "def spinner(probabilityDistribution):\n",
    "\n",
    "    if np.sum(probabilityDistribution) != 1:\n",
    "        return -1\n",
    "    \n",
    "    rand_num = np.random.rand()\n",
    "    cumulative_prob = 0\n",
    "\n",
    "    for i, prob in enumerate(probabilityDistribution):\n",
    "        cumulative_prob += prob\n",
    "        if rand_num <= cumulative_prob:\n",
    "            return i"
   ]
  },
  {
   "cell_type": "code",
   "execution_count": 34,
   "id": "f0fbcc8f-8739-489a-8ed3-70999bb52183",
   "metadata": {},
   "outputs": [
    {
     "name": "stdout",
     "output_type": "stream",
     "text": [
      "The spinner landed on slot 2\n"
     ]
    }
   ],
   "source": [
    "input_probabilities = np.array([0.1,0.3, 0.1, 0.4, 0.1])\n",
    "#n = ?\n",
    "#input_probabilities = np.random.rand(n)\n",
    "\n",
    "# Spin the spinner\n",
    "result = spinner(input_probabilities)\n",
    "\n",
    "print(f\"The spinner landed on slot {result+1}\")"
   ]
  },
  {
   "attachments": {
    "chart.png": {
     "image/png": "[encoded data removed]"
    }
   },
   "cell_type": "markdown",
   "id": "3be14413",
   "metadata": {},
   "source": [
    "The same problem but instead of a distribution of probability the input is a list of natural numbers that holds how many degrees has the center angle $\\theta_i$ corespondent to index $i$.\n",
    "\n",
    "### Example:\n",
    "\n",
    "Consider we have a wheel with 4 slots as in Figure \n",
    "\n",
    "![chart.png](attachment:chart.png)\n",
    "\n",
    "When we spin the wheel we get for example blue index with $12.86\\%$ chances. "
   ]
  },
  {
   "cell_type": "code",
   "execution_count": 32,
   "id": "63f972e9-8020-47be-be9e-e5cdeb48d089",
   "metadata": {},
   "outputs": [],
   "source": [
    "def spinner_wheel(input_list):\n",
    "    input_probabilities = input_list/np.sum(input_list)\n",
    "    \n",
    "    if np.sum(input_probabilities) != 1:\n",
    "        return -1\n",
    "    \n",
    "    rand_num = np.random.rand()\n",
    "    cumulative_prob = 0\n",
    "\n",
    "    for i, prob in enumerate(input_probabilities):\n",
    "        cumulative_prob += prob\n",
    "        if rand_num <= cumulative_prob:\n",
    "            return i\n"
   ]
  },
  {
   "cell_type": "code",
   "execution_count": 33,
   "id": "a08a4cc9-9339-4b0e-a9d1-d51c01c64c10",
   "metadata": {},
   "outputs": [
    {
     "name": "stdout",
     "output_type": "stream",
     "text": [
      "The spinner landed on slot 1\n"
     ]
    }
   ],
   "source": [
    "input_list = np.array([45,85,70,150, 10])\n",
    "result = spinner_wheel(input_list)\n",
    "print(f\"The spinner landed on slot {result+1}\")"
   ]
  },
  {
   "cell_type": "markdown",
   "id": "c0da82ad",
   "metadata": {},
   "source": [
    "## Task 7 -- Determine some outcomes using Monte Carlo Simulations"
   ]
  },
  {
   "attachments": {
    "MCSIM.jpg": {
     "image/jpeg": "[encoded data removed]"
    }
   },
   "cell_type": "markdown",
   "id": "5d27f3f8",
   "metadata": {},
   "source": [
    "Consider a large pipe with a radius $R = 30 cm$ that has the opening pointing straight up, as in the figure. Around this pipe is a rectangular wall with an edge $l = 1m$. Balls of radius $r = 1 cm$ fall down uniformly from above inside the square yard. Compute, using a Monte Carlo simulation, the probability that a ball falls inside the pipe. Compare the results with the mathematically deduced probability.\n",
    "\n",
    "![MCSIM.jpg](attachment:MCSIM.jpg)"
   ]
  },
  {
   "cell_type": "code",
   "execution_count": 34,
   "id": "50c16a07",
   "metadata": {},
   "outputs": [
    {
     "name": "stdout",
     "output_type": "stream",
     "text": [
      "the result of the mathematically produced probability is: 0.2827433388230814\n",
      "The result, according to the Monte Carlo Simulation, is: 0.282525\n"
     ]
    }
   ],
   "source": [
    "R = 30 #cm\n",
    "l = 100 #cm\n",
    "r = 1 #cm\n",
    "\n",
    "mathematical_probability = (np.pi * R ** 2) / (l ** 2)\n",
    "print(f\"the result of the mathematically produced probability is: {mathematical_probability}\")\n",
    "\n",
    "number_of_trials = 1000000\n",
    "\n",
    "pipe_area = np.pi * R**2\n",
    "wall_area = l**2\n",
    "\n",
    "num_balls_inside_pipe = 0\n",
    "\n",
    "for _ in range(number_of_trials):\n",
    "    x = np.random.uniform(0, l)\n",
    "    y = np.random.uniform(0, l)\n",
    "\n",
    "    distance_to_center = np.sqrt((x - l/2)**2 + (y - l/2)**2)\n",
    "\n",
    "    if distance_to_center <= R:\n",
    "        num_balls_inside_pipe += 1\n",
    "\n",
    "estimated_probability = num_balls_inside_pipe / number_of_trials\n",
    "print(f\"The result, according to the Monte Carlo Simulation, is: {estimated_probability}\")\n"
   ]
  },
  {
   "cell_type": "code",
   "execution_count": null,
   "id": "93c7d21c-c2bb-4243-960b-4e7cdc1aeb23",
   "metadata": {},
   "outputs": [],
   "source": []
  },
  {
   "cell_type": "code",
   "execution_count": null,
   "id": "b76d7474-a2b3-4175-baa8-0d5373a59303",
   "metadata": {},
   "outputs": [],
   "source": []
  },
  {
   "cell_type": "code",
   "execution_count": null,
   "id": "3c1074db-cad4-4953-a90d-3a2ba67e46b5",
   "metadata": {},
   "outputs": [],
   "source": []
  }
 ],
 "metadata": {
  "kernelspec": {
   "display_name": "Python 3 (ipykernel)",
   "language": "python",
   "name": "python3"
  },
  "language_info": {
   "codemirror_mode": {
    "name": "ipython",
    "version": 3
   },
   "file_extension": ".py",
   "mimetype": "text/x-python",
   "name": "python",
   "nbconvert_exporter": "python",
   "pygments_lexer": "ipython3",
   "version": "3.11.8"
  }
 },
 "nbformat": 4,
 "nbformat_minor": 5
}
